{
  "cells": [
    {
      "cell_type": "code",
      "source": [
        "import pandas as pd\n",
        "\n",
        "pd.set_option('display.expand_frame_repr', False)\n",
        "\n",
        "df = pd.read_csv('./data/the_oscar_award.csv', header=0)\n",
        "\n",
        "df = df[['category', 'winner', 'name']]\n",
        "\n",
        "# popular actors\n",
        "df = df[df['category'].str.contains('ACTOR') | df['category'].str.contains('ACTRESS')] \n",
        "popular_actors = set(df['name'].values.tolist())\n",
        "clean_actors = {x.replace(', Jr.', ' Jr.') for x in popular_actors}\n",
        "\n",
        "# with open('actor_award_winners.txt', 'w') as f:\n",
        "with open('./generated/oscar/actor_award_nominees.txt', 'w') as f:\n",
        "    f.write('\\n'.join(clean_actors))"
      ],
      "execution_count": 6,
      "outputs": [],
      "metadata": {}
    }
  ],
  "metadata": {
    "kernelspec": {
      "name": "python3",
      "display_name": "Python 3.8.6 64-bit",
      "metadata": {
        "interpreter": {
          "hash": "aee8b7b246df8f9039afb4144a1f6fd8d2ca17a180786b69acc140d282b71a49"
        }
      }
    }
  },
  "nbformat": 4,
  "nbformat_minor": 0
}